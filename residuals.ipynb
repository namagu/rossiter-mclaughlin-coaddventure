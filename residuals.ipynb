{
 "cells": [
  {
   "cell_type": "code",
   "execution_count": 1,
   "id": "d1335dbb-10d1-458d-a4c6-d4b90f19a2fd",
   "metadata": {},
   "outputs": [],
   "source": [
    "# import packages\n",
    "import numpy as np\n",
    "import math as math\n",
    "import pandas as pd\n",
    "from astropy import units as u\n",
    "import astropy.constants as const\n",
    "\n",
    "import matplotlib.pyplot as plt\n",
    "from matplotlib.patches import Rectangle\n",
    "\n",
    "from scipy.interpolate import interp1d\n",
    "\n",
    "%matplotlib inline"
   ]
  },
  {
   "cell_type": "code",
   "execution_count": 2,
   "id": "a777c5a6-934a-476e-8dcf-9ab43228eb91",
   "metadata": {},
   "outputs": [],
   "source": [
    "def get_params(filename):\n",
    "    \"\"\"Get orbit params from csv header\"\"\"\n",
    "    header = np.array([])\n",
    "    file = open(filename, 'r')\n",
    "    for line in file:\n",
    "        if line.startswith(\"#\"):\n",
    "            line.split(\",\")\n",
    "            header = np.append(header,line.split(\",\"))\n",
    "    P = float(header[5].split(\" \")[-2])\n",
    "    dur = float(header[6].split(\" \")[-2])\n",
    "    return P, dur"
   ]
  },
  {
   "cell_type": "code",
   "execution_count": 14,
   "id": "d845d690-74d2-4be5-9f55-930b38518ea2",
   "metadata": {},
   "outputs": [],
   "source": [
    "def calculate_residual(sim, obs):\n",
    "    \"\"\"\n",
    "    Calculate residual between simulated and observed data.\n",
    "    Interpolates simulated data to match observed data timestamps.\n",
    "    \n",
    "    Inputs\n",
    "        sim, obs: DataFrames with time, rv, theta\n",
    "    Returns\n",
    "        t_obs, residual: array of times for observations, and residuals\n",
    "        \n",
    "    NB: t_obs is shortened by 10 indices at the end to avoid going out of\n",
    "      range of the interpolated observed data\n",
    "      \n",
    "    \"\"\"\n",
    "    \n",
    "    t_sim = np.array(sim['# time [d]'])\n",
    "    end = len(obs)//50\n",
    "    t_obs = np.array(obs['# time [d]'])[end:-end] # d -> hrs\n",
    "    \n",
    "    simrv = sim['radial velocity [m/s]'].to_numpy()\n",
    "    obsrv = obs['radial velocity [m/s]'].to_numpy()[end:-end]\n",
    "\n",
    "    # interpolate the simulated data onto the synthetic observed time steps\n",
    "    f_interp = interp1d(t_sim, simrv)\n",
    "    simobsrv = f_interp(t_obs)\n",
    "    # calculate the (sim - obs) residual\n",
    "    residual = simobsrv - obsrv\n",
    "    \n",
    "    return t_obs*24, residual\n"
   ]
  },
  {
   "cell_type": "code",
   "execution_count": 15,
   "id": "6ae326e0-f5f2-47c9-b33d-249cc98d13c2",
   "metadata": {},
   "outputs": [],
   "source": [
    "koi = 961.01\n",
    "\n",
    "\n",
    "file_asim = \"rv_lcs/KOI_961.01_sim_rmrv_lc_b_0.0_phi_0.0278pi.csv\"\n",
    "P, dur = get_params(file_asim)\n",
    "P *= 24   # convert to hours\n",
    "\n",
    "# case A is the predicted\n",
    "case_a_sim = pd.read_csv('rv_lcs/KOI_961.01_sim_rmrv_lc_b_0.0_phi_0.0pi.csv',\n",
    "                    header=4)\n",
    "case_a_obs = pd.read_csv('rv_lcs/KOI_961.01_synthobs_rmrv_lc_b_0.0_phi_0.0pi.csv',\n",
    "                    header=4)\n",
    "\n",
    "# case B is the random\n",
    "case_b_sim = pd.read_csv('rv_lcs/KOI_961.01_sim_rmrv_lc_b_0.0_phi_0.0278pi.csv',\n",
    "                    header=4)\n",
    "case_b_obs = pd.read_csv('rv_lcs/KOI_961.01_synthobs_rmrv_lc_b_0.0_phi_0.0278pi.csv',\n",
    "                    header=4)"
   ]
  },
  {
   "cell_type": "code",
   "execution_count": 20,
   "id": "9c0d1d44-a9f4-4101-8cff-62c84460bd19",
   "metadata": {},
   "outputs": [],
   "source": [
    "koi = 254.01\n",
    "\n",
    "# case A is the predicted\n",
    "case_a_sim = pd.read_csv('rv_lcs/KOI_254.01_sim_rmrv_lc_b_0.0_phi_0.0pi.csv',\n",
    "                    header=4)\n",
    "case_a_obs = pd.read_csv('rv_lcs/KOI_254.01_synthobs_rmrv_lc_b_0.0_phi_0.0pi.csv',\n",
    "                    header=4)\n",
    "\n",
    "# case B is the random\n",
    "case_b_sim = pd.read_csv('rv_lcs/KOI_254.01_sim_rmrv_lc_b_0.0_phi_0.111pi.csv',\n",
    "                    header=4)\n",
    "case_b_obs = pd.read_csv('rv_lcs/KOI_254.01_synthobs_rmrv_lc_b_0.0_phi_0.111pi.csv',\n",
    "                    header=4)\n",
    "\n",
    "\n",
    "file_asim = \"rv_lcs/KOI_254.01_sim_rmrv_lc_b_0.0_phi_0.0pi.csv\"\n",
    "P, dur = get_params(file_asim)\n",
    "P *= 24   # convert to hours\n"
   ]
  },
  {
   "cell_type": "code",
   "execution_count": 21,
   "id": "6f8a330e-dea7-41fc-b2d6-e8ed34c617ec",
   "metadata": {},
   "outputs": [],
   "source": [
    "t_a, res_a = calculate_residual(case_a_sim, case_a_obs)\n",
    "t_b, res_b = calculate_residual(case_b_sim, case_b_obs)"
   ]
  },
  {
   "cell_type": "code",
   "execution_count": 22,
   "id": "11597783-4ac1-4ab9-8366-b2d084b17ea4",
   "metadata": {},
   "outputs": [],
   "source": [
    "## set error parameters (from MAROON-X, Jenn Burt)\n",
    "sigma_phot = 1.7   # RV photon uncertainty [m/s]\n",
    "sigma_floor = 0.5  # RV instrument floor [m/s]\n",
    "sigma_jit = 0.5    # Stellar jitter term [m/s]\n",
    "sigma_all = np.sqrt(sigma_phot**2 + sigma_floor**2 + sigma_jit**2) # Add all unc. terms in quadrature\n"
   ]
  },
  {
   "cell_type": "code",
   "execution_count": 23,
   "id": "bae79891-cb90-46f7-b44a-247bfb83d5c4",
   "metadata": {},
   "outputs": [
    {
     "data": {
      "image/png": "[encoded data removed]",
      "text/plain": [
       "<Figure size 576x432 with 1 Axes>"
      ]
     },
     "metadata": {
      "needs_background": "light"
     },
     "output_type": "display_data"
    }
   ],
   "source": [
    "### Plot residuals ###\n",
    "\n",
    "# figure setup\n",
    "fig = plt.figure(figsize=(8,6))\n",
    "ax = fig.add_subplot()\n",
    "fs = 14 # font size\n",
    "plt.rc('font', size=fs)\n",
    "\n",
    "\n",
    "ax.errorbar(t_a - P, res_a, yerr=sigma_all,\n",
    "            c='teal', fmt='.',label=f\"residual, predicted obliquity\"\n",
    "           )\n",
    "ax.errorbar(t_b - P, res_b, yerr=sigma_all,\n",
    "            c='brown', fmt='.',label=f\"residual, random obliquity\"\n",
    "           )\n",
    "\n",
    "\n",
    "# formatting\n",
    "ax.set_xlabel(r\"time [hr]\")\n",
    "ax.set_ylabel(r\"$RV_{sim} - RV_{obs}$ residual [m/s]\")\n",
    "\n",
    "\n",
    "window = np.array([-1,1])*2*dur\n",
    "ax.set_xlim(window[0], window[1])\n",
    "\n",
    "# # additional visual markers\n",
    "# ax.vlines(0.5*(dur)*np.array([-1,1]),ax.get_ylim()[0],ax.get_ylim()[1],\n",
    "#           color='grey', alpha=0.4 , label=f\"dur = {dur:.3}\")\n",
    "\n",
    "corner = (-dur*0.5, ax.get_ylim()[0])\n",
    "width = dur  # hrs\n",
    "height = np.diff(ax.get_ylim())[0]\n",
    "ax.add_patch(Rectangle(corner, width, height,\n",
    "                      color='grey', alpha=0.3, zorder=1,\n",
    "                      label=\"in-transit\"))\n",
    "ax.hlines(0,window[0],window[1],lw=1,colors='grey',alpha=0.5)\n",
    "\n",
    "for spine in ax.spines: ax.spines[spine].set_visible(False)\n",
    "ax.spines['bottom'].set_visible(True)\n",
    "\n",
    "# plt.text(ax.get_xlim()[0]*0.5, ax.get_ylim()[1]*0.75, f\"stellar obliquity = {phi_star * (180/np.pi):.3} deg\")\n",
    "\n",
    "#ax.set_facecolor(\"lightgrey\")\n",
    "#plt.grid(c='white')\n",
    "plt.rc('font', size=8)\n",
    "plt.legend(loc='lower left')\n",
    "\n",
    "filename=f\"plots/KOI_{koi}_residuals.svg\"\n",
    "plt.savefig(filename, bbox_inches='tight',transparent=True)"
   ]
  },
  {
   "cell_type": "code",
   "execution_count": null,
   "id": "d3fdd736-b978-452b-b292-b57c4bb5f4b5",
   "metadata": {},
   "outputs": [],
   "source": [
    "dur"
   ]
  },
  {
   "cell_type": "code",
   "execution_count": null,
   "id": "174c62d5-6a9a-476f-a2ec-23e64c033fdc",
   "metadata": {},
   "outputs": [],
   "source": []
  }
 ],
 "metadata": {
  "kernelspec": {
   "display_name": "Python 3 (ipykernel)",
   "language": "python",
   "name": "python3"
  },
  "language_info": {
   "codemirror_mode": {
    "name": "ipython",
    "version": 3
   },
   "file_extension": ".py",
   "mimetype": "text/x-python",
   "name": "python",
   "nbconvert_exporter": "python",
   "pygments_lexer": "ipython3",
   "version": "3.8.13"
  }
 },
 "nbformat": 4,
 "nbformat_minor": 5
}
