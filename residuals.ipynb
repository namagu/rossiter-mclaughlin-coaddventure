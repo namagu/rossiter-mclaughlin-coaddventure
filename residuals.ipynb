{
 "cells": [
  {
   "cell_type": "code",
   "execution_count": 1,
   "id": "d1335dbb-10d1-458d-a4c6-d4b90f19a2fd",
   "metadata": {},
   "outputs": [],
   "source": [
    "# import packages\n",
    "import numpy as np\n",
    "import math as math\n",
    "import pandas as pd\n",
    "from astropy import units as u\n",
    "import astropy.constants as const\n",
    "\n",
    "import matplotlib.pyplot as plt\n",
    "from matplotlib.patches import Rectangle\n",
    "\n",
    "from scipy.interpolate import interp1d\n",
    "\n",
    "%matplotlib inline"
   ]
  },
  {
   "cell_type": "code",
   "execution_count": 2,
   "id": "a777c5a6-934a-476e-8dcf-9ab43228eb91",
   "metadata": {},
   "outputs": [],
   "source": [
    "def get_params(filename):\n",
    "    \"\"\"Get orbit params from csv header\"\"\"\n",
    "    header = np.array([])\n",
    "    file = open(filename, 'r')\n",
    "    for line in file:\n",
    "        if line.startswith(\"#\"):\n",
    "            line.split(\",\")\n",
    "            header = np.append(header,line.split(\",\"))\n",
    "    P = float(header[5].split(\" \")[-2])\n",
    "    dur = float(header[6].split(\" \")[-2])\n",
    "    return P, dur"
   ]
  },
  {
   "cell_type": "code",
   "execution_count": 3,
   "id": "d845d690-74d2-4be5-9f55-930b38518ea2",
   "metadata": {},
   "outputs": [],
   "source": [
    "# def calculate_residual(sim, obs, refsim):\n",
    "#     \"\"\"\n",
    "#     Calculate residual between simulated and observed data.\n",
    "#     Interpolates simulated data to match observed data timestamps.\n",
    "    \n",
    "#     Inputs\n",
    "#         sim, obs: DataFrames with time, rv, theta of simulated, observed\n",
    "#         refsim: Dataframe with simulated rv we are using as a reference\n",
    "#     Returns\n",
    "#         t_obs, residual: array of times for observations, and residuals\n",
    "        \n",
    "#     NB: t_obs is shortened by 10 indices at the end to avoid going out of\n",
    "#       range of the interpolated observed data\n",
    "      \n",
    "#     \"\"\"\n",
    "    \n",
    "#     t_sim = np.array(refsim['# time [d]'])\n",
    "#     end = len(obs)//50\n",
    "#     t_obs = np.array(obs['# time [d]'])[end:-end] # d -> hrs\n",
    "    \n",
    "#     #simrv = sim['radial velocity [m/s]'].to_numpy()\n",
    "#     refsimrv = refsim['radial velocity [m/s]'].to_numpy()\n",
    "#     obsrv = obs['radial velocity [m/s]'].to_numpy()[end:-end]\n",
    "\n",
    "#     # interpolate the ref simulated data onto the synthetic observed time steps\n",
    "#     f_interp = interp1d(t_sim, refsimrv,kind='cubic')\n",
    "#     simobsrv = f_interp(t_obs)\n",
    "#     # calculate the (sim - obs) residual\n",
    "#     residual = simobsrv - obsrv\n",
    "    \n",
    "#     return t_obs*24, residual\n"
   ]
  },
  {
   "cell_type": "code",
   "execution_count": 41,
   "id": "11597783-4ac1-4ab9-8366-b2d084b17ea4",
   "metadata": {},
   "outputs": [],
   "source": [
    "## set error parameters (from MAROON-X, Jenn Burt)\n",
    "sigma_phot = 1.7   # RV photon uncertainty [m/s]\n",
    "sigma_floor = 0.5  # RV instrument floor [m/s]\n",
    "sigma_jit = 0.5    # Stellar jitter term [m/s]\n",
    "sigma_all = np.sqrt(sigma_phot**2 + sigma_floor**2 + sigma_jit**2) # Add all unc. terms in quadrature\n"
   ]
  },
  {
   "cell_type": "code",
   "execution_count": 45,
   "id": "6ae326e0-f5f2-47c9-b33d-249cc98d13c2",
   "metadata": {},
   "outputs": [],
   "source": [
    "koi = 961.01\n",
    "\n",
    "\n",
    "file_asim = \"rv_lcs/KOI_961.01_sim_rmrv_lc_b_0.0_phi_0.0278pi.csv\"\n",
    "P, dur = get_params(file_asim)\n",
    "P *= 24   # convert to hours\n",
    "\n",
    "# case A is the prediction which reflects physical reality\n",
    "case_0_sim = pd.read_csv('rv_lcs/KOI_961.01_simmatch_rmrv_lc_b_0.0_phi_0.0pi.csv',\n",
    "                    header=4)\n",
    "case_0_obs = pd.read_csv('rv_lcs/KOI_961.01_synthobsmatch_rmrv_lc_b_0.0_phi_0.0pi.csv',\n",
    "                    header=4)\n",
    "\n",
    "# case B is the test case prediction\n",
    "case_20_sim = pd.read_csv('rv_lcs/KOI_961.01_simmatch_rmrv_lc_b_0.0_phi_0.111pi.csv',\n",
    "                         header=4)\n",
    "case_20_obs = pd.read_csv('rv_lcs/KOI_961.01_synthobsmatch_rmrv_lc_b_0.0_phi_0.111pi.csv',\n",
    "                         header=4)\n",
    "\n",
    "# best obliquity model - best obliquity obs\n",
    "t_0 = case_0_obs['# time [d]']*24\n",
    "res_0 = case_0_sim['radial velocity [m/s]'] - case_0_obs['radial velocity [m/s]']\n",
    "\n",
    "t_20 = case_20_obs['# time [d]']*24\n",
    "res_20 = case_0_sim['radial velocity [m/s]'] - case_20_obs['radial velocity [m/s]']\n"
   ]
  },
  {
   "cell_type": "code",
   "execution_count": 47,
   "id": "81ced984-3886-458a-bb5f-894c844fc860",
   "metadata": {},
   "outputs": [
    {
     "name": "stdout",
     "output_type": "stream",
     "text": [
      "saving plots/KOI_961.01_residuals.svg\n"
     ]
    },
    {
     "data": {
      "image/png": "[encoded data removed]",
      "text/plain": [
       "<Figure size 576x432 with 1 Axes>"
      ]
     },
     "metadata": {
      "needs_background": "light"
     },
     "output_type": "display_data"
    }
   ],
   "source": [
    "### Plot residuals ###\n",
    "\n",
    "# figure setup\n",
    "fig = plt.figure(figsize=(8,6))\n",
    "ax = fig.add_subplot()\n",
    "fs = 14 # font size\n",
    "plt.rc('font', size=fs)\n",
    "\n",
    "\n",
    "ax.errorbar(t_0 - P, res_0, yerr=sigma_all,\n",
    "            c='teal', fmt='.',label=f\"residual, predicted obliquity = 0 deg\"\n",
    "           )\n",
    "ax.errorbar(t_20 - P, res_20, yerr=sigma_all,\n",
    "            c='brown', fmt='.',label=f\"residual, test obliquity = 20 deg\"\n",
    "           )\n",
    "\n",
    "\n",
    "# formatting\n",
    "ax.set_xlabel(r\"time [hr]\")\n",
    "ax.set_ylabel(r\"$RV_{sim} - RV_{obs}$ residual [m/s]\")\n",
    "\n",
    "\n",
    "window = np.array([-1,1])*2*dur\n",
    "ax.set_xlim(window[0], window[1])\n",
    "ax.set_ylim(-8,8)\n",
    "\n",
    "# # additional visual markers\n",
    "# ax.vlines(0.5*(dur)*np.array([-1,1]),ax.get_ylim()[0],ax.get_ylim()[1],\n",
    "#           color='grey', alpha=0.4 , label=f\"dur = {dur:.3}\")\n",
    "\n",
    "corner = (-dur*0.5, ax.get_ylim()[0])\n",
    "width = dur  # hrs\n",
    "height = np.diff(ax.get_ylim())[0]\n",
    "ax.add_patch(Rectangle(corner, width, height,\n",
    "                      color='lightgrey', alpha=0.3, zorder=1,\n",
    "                      label=\"in-transit\"))\n",
    "ax.hlines(0,window[0],window[1],lw=1,colors='grey',alpha=0.5)\n",
    "\n",
    "for spine in ax.spines: ax.spines[spine].set_visible(False)\n",
    "ax.spines['bottom'].set_visible(True)\n",
    "\n",
    "# plt.text(ax.get_xlim()[0]*0.5, ax.get_ylim()[1]*0.75, f\"stellar obliquity = {phi_star * (180/np.pi):.3} deg\")\n",
    "\n",
    "#ax.set_facecolor(\"lightgrey\")\n",
    "#plt.grid(c='white')\n",
    "plt.rc('font', size=8)\n",
    "plt.legend(loc='lower left')\n",
    "\n",
    "filename=f\"plots/KOI_{koi}_residuals.svg\"\n",
    "plt.savefig(filename, bbox_inches='tight',transparent=True)\n",
    "print(f\"saving {filename}\")"
   ]
  },
  {
   "cell_type": "code",
   "execution_count": 39,
   "id": "9c0d1d44-a9f4-4101-8cff-62c84460bd19",
   "metadata": {},
   "outputs": [],
   "source": [
    "koi = 254.01\n",
    "\n",
    "# case A is the prediction which reflects physical reality\n",
    "case_20_sim = pd.read_csv('rv_lcs/KOI_254.01_simmatch_rmrv_lc_b_0.0_phi_0.111pi.csv',\n",
    "                          header=4)\n",
    "case_20_obs = pd.read_csv('rv_lcs/KOI_254.01_synthobsmatch_rmrv_lc_b_0.0_phi_0.111pi.csv',\n",
    "                    header=4)\n",
    "\n",
    "# case B is the test case prediction\n",
    "case_0_sim = pd.read_csv('rv_lcs/KOI_254.01_simmatch_rmrv_lc_b_0.0_phi_0.0pi.csv',\n",
    "                    header=4)\n",
    "case_0_obs = pd.read_csv('rv_lcs/KOI_254.01_synthobsmatch_rmrv_lc_b_0.0_phi_0.0pi.csv',\n",
    "                    header=4)\n",
    "\n",
    "\n",
    "file_asim = \"rv_lcs/KOI_254.01_sim_rmrv_lc_b_0.0_phi_0.0pi.csv\"\n",
    "P, dur = get_params(file_asim)\n",
    "P *= 24   # convert to hours\n",
    "\n",
    "# best obliquity model - best obliquity obs\n",
    "t_20 = case_20_obs['# time [d]']*24\n",
    "res_20 = case_20_obs['radial velocity [m/s]'] - case_20_sim['radial velocity [m/s]']\n",
    "\n",
    "# best obliquity model - test obliquity obs\n",
    "t_0 = case_0_obs['# time [d]']*24\n",
    "res_0 = case_20_sim['radial velocity [m/s]'] - case_0_obs['radial velocity [m/s]']\n",
    "\n",
    "# t_20, res_20 = calculate_residual(case_20_sim, case_20_obs, case_20_sim)\n",
    "# t_0, res_0 = calculate_residual(case_0_sim, case_0_obs, case_20_sim)"
   ]
  },
  {
   "cell_type": "code",
   "execution_count": 40,
   "id": "43c93d69-56eb-470a-be92-c3a5e178da22",
   "metadata": {},
   "outputs": [
    {
     "data": {
      "text/plain": [
       "(58.0, 60.0)"
      ]
     },
     "execution_count": 40,
     "metadata": {},
     "output_type": "execute_result"
    },
    {
     "data": {
      "image/png": "[encoded data removed]",
      "text/plain": [
       "<Figure size 432x288 with 1 Axes>"
      ]
     },
     "metadata": {
      "needs_background": "light"
     },
     "output_type": "display_data"
    }
   ],
   "source": [
    "# compare the actual values we're subtracting \n",
    "plt.scatter(t_0, case_0_obs['radial velocity [m/s]'])\n",
    "plt.scatter(t_0, case_20_sim['radial velocity [m/s]'])\n",
    "plt.xlim(58,60)"
   ]
  },
  {
   "cell_type": "code",
   "execution_count": 43,
   "id": "bae79891-cb90-46f7-b44a-247bfb83d5c4",
   "metadata": {},
   "outputs": [
    {
     "name": "stdout",
     "output_type": "stream",
     "text": [
      "saving plots/KOI_254.01_residuals.svg\n"
     ]
    },
    {
     "data": {
      "image/png": "[encoded data removed]",
      "text/plain": [
       "<Figure size 576x432 with 1 Axes>"
      ]
     },
     "metadata": {
      "needs_background": "light"
     },
     "output_type": "display_data"
    }
   ],
   "source": [
    "### Plot residuals ###\n",
    "\n",
    "# figure setup\n",
    "fig = plt.figure(figsize=(8,6))\n",
    "ax = fig.add_subplot()\n",
    "fs = 14 # font size\n",
    "plt.rc('font', size=fs)\n",
    "\n",
    "\n",
    "ax.errorbar(t_20 - P, res_20, yerr=sigma_all,\n",
    "            c='teal', fmt='.',label=f\"residual, predicted obliquity = 20 deg\"\n",
    "           )\n",
    "ax.errorbar(t_0 - P, res_0, yerr=sigma_all,\n",
    "            c='brown', fmt='.',label=f\"residual, test obliquity = 0 deg\"\n",
    "           )\n",
    "\n",
    "\n",
    "# formatting\n",
    "ax.set_xlabel(r\"time [hr]\")\n",
    "ax.set_ylabel(r\"$RV_{sim} - RV_{obs}$ residual [m/s]\")\n",
    "\n",
    "\n",
    "window = np.array([-1,1])*2*dur\n",
    "ax.set_xlim(window[0], window[1])\n",
    "ax.set_ylim(-80,80)\n",
    "\n",
    "# # additional visual markers\n",
    "# ax.vlines(0.5*(dur)*np.array([-1,1]),ax.get_ylim()[0],ax.get_ylim()[1],\n",
    "#           color='grey', alpha=0.4 , label=f\"dur = {dur:.3}\")\n",
    "\n",
    "corner = (-dur*0.5, ax.get_ylim()[0])\n",
    "width = dur  # hrs\n",
    "height = np.diff(ax.get_ylim())[0]\n",
    "ax.add_patch(Rectangle(corner, width, height,\n",
    "                      color='lightgrey', alpha=0.3, zorder=1,\n",
    "                      label=\"in-transit\"))\n",
    "ax.hlines(0,window[0],window[1],lw=1,colors='grey',alpha=0.5)\n",
    "\n",
    "for spine in ax.spines: ax.spines[spine].set_visible(False)\n",
    "ax.spines['bottom'].set_visible(True)\n",
    "\n",
    "# plt.text(ax.get_xlim()[0]*0.5, ax.get_ylim()[1]*0.75, f\"stellar obliquity = {phi_star * (180/np.pi):.3} deg\")\n",
    "\n",
    "#ax.set_facecolor(\"lightgrey\")\n",
    "#plt.grid(c='white')\n",
    "plt.rc('font', size=8)\n",
    "plt.legend(loc='lower left')\n",
    "\n",
    "filename=f\"plots/KOI_{koi}_residuals.svg\"\n",
    "plt.savefig(filename, bbox_inches='tight',transparent=True)\n",
    "print(f\"saving {filename}\")"
   ]
  },
  {
   "cell_type": "code",
   "execution_count": 10,
   "id": "d3fdd736-b978-452b-b292-b57c4bb5f4b5",
   "metadata": {},
   "outputs": [
    {
     "data": {
      "text/plain": [
       "1.94884"
      ]
     },
     "execution_count": 10,
     "metadata": {},
     "output_type": "execute_result"
    }
   ],
   "source": [
    "dur"
   ]
  },
  {
   "cell_type": "code",
   "execution_count": null,
   "id": "f70ee0d7-8c8c-436e-9d0a-34c553a2a2d7",
   "metadata": {},
   "outputs": [],
   "source": []
  }
 ],
 "metadata": {
  "kernelspec": {
   "display_name": "Python 3 (ipykernel)",
   "language": "python",
   "name": "python3"
  },
  "language_info": {
   "codemirror_mode": {
    "name": "ipython",
    "version": 3
   },
   "file_extension": ".py",
   "mimetype": "text/x-python",
   "name": "python",
   "nbconvert_exporter": "python",
   "pygments_lexer": "ipython3",
   "version": "3.8.13"
  }
 },
 "nbformat": 4,
 "nbformat_minor": 5
}
