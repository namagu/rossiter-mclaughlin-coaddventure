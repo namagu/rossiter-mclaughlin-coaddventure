{
 "cells": [
  {
   "cell_type": "code",
   "execution_count": 1,
   "id": "20647074-147e-43c9-8882-be82ca089d7a",
   "metadata": {},
   "outputs": [],
   "source": [
    "# import packages\n",
    "import numpy as np\n",
    "import math as math\n",
    "import pandas as pd\n",
    "from astropy import units as u\n",
    "import astropy.constants as const\n",
    "import random\n",
    "import matplotlib.pyplot as plt\n",
    "import os\n",
    "from pylaplace import LaplaceCoefficient\n",
    "#import seaborn as sns; sns.set_theme()"
   ]
  },
  {
   "cell_type": "markdown",
   "id": "445cdae8-be0a-4b58-90b4-c3635507fbf4",
   "metadata": {},
   "source": [
    "# Exploring relationships between planet rotation, obliquity, orbital eccentricity, inclination\n",
    "\n"
   ]
  },
  {
   "cell_type": "markdown",
   "id": "93b7605d-127a-4871-aa70-7733020c4a2f",
   "metadata": {},
   "source": [
    "### $\\alpha(\\omega)$, precession of planet spin axis for a given spin freqency\n",
    "\n",
    "$ \\alpha $ - spin-axis precession constant\n",
    "\n",
    "$ \\epsilon $ - obliquity (of orbit?)\n",
    "\n",
    "Period of planet spin precession\n",
    "$$ T_{\\alpha} = \\frac{2\\pi}{\\alpha ~ cos \\epsilon} $$ \n",
    "\n",
    "Caused by torque from host star on rotationally-flattened planet \n",
    "\n",
    "$$ \\alpha = \\frac{1}{2}\\frac{M_{*}}{m_p}\\left(\\frac{R_p}{a}\\right)^3\\frac{k_2}{C}\\omega $$\n",
    "\n",
    "\n"
   ]
  },
  {
   "cell_type": "code",
   "execution_count": 2,
   "id": "b707f858-3b0c-458c-937d-8fd8c262bc53",
   "metadata": {},
   "outputs": [],
   "source": [
    "def get_C(k2):\n",
    "    \"\"\"Calculate C, the moment of inertia, from k2, the Love number\"\"\"\n",
    "    \n",
    "    C = (2/3)*(1 - (2/5)*((5/(k2+1)) - 1)**0.5)\n",
    "    return C"
   ]
  },
  {
   "cell_type": "code",
   "execution_count": 3,
   "id": "49fa156a-6d56-4197-8de9-d3201c805bb1",
   "metadata": {},
   "outputs": [],
   "source": [
    "def get_alpha(omega, mstar, mp, rp, a, k2, C):\n",
    "    \"\"\"\n",
    "    Calculate alpha, spin-axis precession constant for frequency of planet \n",
    "    rotational spin axis precessing around orbit normal\n",
    "    \n",
    "    Input:\n",
    "        omega: spin frequency\n",
    "        \n",
    "    Returns:\n",
    "        alpha: frequency constant in 1/yr\n",
    "    \"\"\"\n",
    "    alpha = 0.5 * (mstar/mp) * (rp/a)**3 * (k2/C) * omega\n",
    "    \n",
    "    return alpha.decompose()"
   ]
  },
  {
   "cell_type": "code",
   "execution_count": 4,
   "id": "9e42bc1e-ec65-4a3c-964c-a48c34af3e2f",
   "metadata": {},
   "outputs": [
    {
     "name": "stdout",
     "output_type": "stream",
     "text": [
      "Precession for a given spin freqency:\n",
      "w = 1.99e-07 1 / s\n",
      "alpha(w) = 3.637e-15 1 / s\n",
      "T_a = 5.475e+07 yr \n"
     ]
    }
   ],
   "source": [
    "# planet-star parameters\n",
    "mstar = 1. * u.M_sun\n",
    "mp = 1. * u.M_earth   # 17 Me Neptune\n",
    "rp = 1. * u.R_earth   # 4 Re Neptune\n",
    "a = 1. * u.astronomical_unit  # 30 AU Neptune\n",
    "k2 = 0.31 # 0.2 * random.random() + 0.2  # Love number, 0.2-0.6 in Solar system\n",
    "C = get_C(k2) # 0.2 * random.random() + 0.2 # moment of inertia normalized to planet\n",
    "Prot = 365 * u.day #24. * u.h  # Jupiter spins once every 10 hours, which should be illegal\n",
    "\n",
    "obl = 23.*np.pi/180. # planet obliquity \n",
    "\n",
    "print(\"Precession for a given spin freqency:\")\n",
    "\n",
    "# Calculate spin frequency \n",
    "w = (2*np.pi)/(Prot)\n",
    "print(f\"w = {w.to(1/u.s):.3}\")\n",
    "\n",
    "# Calculate precession constant\n",
    "alpha = get_alpha(w, mstar, mp, rp, a, k2, C)\n",
    "print(f\"alpha(w) = {alpha:.4}\")\n",
    "\n",
    "# Calculate planet spin axis precession periodt\n",
    "Ta = (2*np.pi)/(alpha) #* np.cos(obl))\n",
    "print(f\"T_a = {Ta.to(u.yr):.4} \")  "
   ]
  },
  {
   "cell_type": "code",
   "execution_count": 5,
   "id": "b3407b2c-989b-498b-ae11-9acc4bb9093d",
   "metadata": {},
   "outputs": [
    {
     "name": "stdout",
     "output_type": "stream",
     "text": [
      "Earth: alpha = 3.7920369378449785e-15 1 / s\n",
      "Neptune: alpha = 2.170705416191149e-21 1 / s\n"
     ]
    }
   ],
   "source": [
    "# Assumming Prot = Porb (tidal locking)\n",
    "# earth\n",
    "earth_alpha = get_alpha((2*np.pi)/(365*u.day), 1*u.M_sun, 1*u.M_earth, 1*u.R_earth, 1*u.astronomical_unit, 0.33, get_C(0.33))\n",
    "# neputne\n",
    "neptune_alpha = get_alpha((2*np.pi)/(165*u.year), 1*u.M_sun, 17*u.M_earth, 4*u.R_earth, 30*u.astronomical_unit, 1, 1)\n",
    "\n",
    "print(f\"Earth: alpha = {earth_alpha}\")\n",
    "print(f\"Neptune: alpha = {neptune_alpha}\")"
   ]
  },
  {
   "cell_type": "markdown",
   "id": "cd59b67f-f426-4711-b69a-a1ad60f23b3e",
   "metadata": {},
   "source": [
    "The values I get for precession period are about 10x larger than the ones in the paper. \n",
    "Unsure why...I suspect units."
   ]
  },
  {
   "cell_type": "markdown",
   "id": "3c6e094a-104d-4f9a-9267-584754cd996a",
   "metadata": {},
   "source": [
    "### $g_{LL}$, orbit nodal regression (orbit precession)\n",
    "\n",
    "If $g_{LL} \\sim \\alpha$, there is spin-orbit resonance, and that can mean high obliquity :3"
   ]
  },
  {
   "cell_type": "code",
   "execution_count": 6,
   "id": "c6183d45-b8d6-4b50-b883-6893d600bb20",
   "metadata": {},
   "outputs": [
    {
     "name": "stdout",
     "output_type": "stream",
     "text": [
      "Saturn-Neptune spin-orbit precession frequency\n",
      "a12 = 0.317217840811187\n",
      "n1 = 6.722e-09 1 / s; n2 = 1.201e-09 1 / s\n",
      "b = -1.1615290163287626\n",
      "g_LL = 1.3169e-06 1 / yr\n",
      "T = 2pi/g = 4.771 Myr\n"
     ]
    }
   ],
   "source": [
    "# system information \n",
    "print(\"Saturn-Neptune spin-orbit precession frequency\")\n",
    "mstar = 1. * u.M_sun   # Sun\n",
    "m1 = 95.16 * u.M_earth     # Saturn\n",
    "m2 = 17.15 * u.M_earth     # Neptune \n",
    "a1 = 9.573*u.AU    # Saturn\n",
    "a2 = 30.178*u.AU   # Neptune\n",
    "a12 = a1/a2\n",
    "print(f\"a12 = {a12}\")\n",
    "\n",
    "# planet mean-motion\n",
    "n1 = np.sqrt((const.G * mstar)/a1**3)   # Periodt\n",
    "n2 = np.sqrt((const.G * mstar)/a2**3) \n",
    "print(f\"n1 = {n1.decompose():.5}; n2 = {n2.decompose():.5}\")\n",
    "# Laplace coefficient\n",
    "laplace = LaplaceCoefficient()\n",
    "# result = laplace(a, s, m, p, q)\n",
    "b = laplace(a12.value, 1.5, 1, 1, 1)\n",
    "print(f\"b = {b}\")\n",
    "\n",
    "# calculate spin-axis precession\n",
    "gll = -0.25*b*a12*( n1*(m2/(mstar+m1))*a12 + n2*(m1/(mstar+m2)) )\n",
    "print(f\"g_LL = {gll.to(1/u.yr):.5}\")\n",
    "print(f\"T = 2pi/g = {((2*np.pi)/gll).to(u.Myr):.4}\")"
   ]
  },
  {
   "cell_type": "code",
   "execution_count": 7,
   "id": "21a31c36-0d8e-48fe-be47-8286c301cdb2",
   "metadata": {},
   "outputs": [
    {
     "name": "stdout",
     "output_type": "stream",
     "text": [
      "Kepler-80 d(1), e(2)\n",
      "a12 = 0.7587719298245613\n",
      "w1 = 2.0452 1 / d \n",
      "w2 = 1.3526 1 / d\n",
      "n1 = 2.356e-05 1 / s; n2 = 1.5572e-05 1 / s\n",
      "b = -11.6543935473343\n",
      "g_LL = 2.5136e+04 1 / Myr\n",
      "alpha_d = 1.4551e+05 1 / Myr\n",
      "alpha_e = 4.3324e+04 1 / Myr\n"
     ]
    }
   ],
   "source": [
    "# system information \n",
    "print(\"Kepler-80 d(1), e(2)\")\n",
    "mstar = 0.58 * u.M_sun     # Kepler-80\n",
    "m1 = 2.0375316 * u.M_earth     # Kepler-80 d\n",
    "m2 = 2.1171352 * u.M_earth     # Kepler-80 e \n",
    "a1 = 0.0346 * u.astronomical_unit         # Kepler-80 d\n",
    "a2 = 0.0456 * u.astronomical_unit         # Kepler-80 e\n",
    "a12 = a1/a2\n",
    "print(f\"a12 = {a12}\")\n",
    "P1 = 3.0721466 * u.day\n",
    "P2 = 4.6453821 * u.day\n",
    "w1 = (2*np.pi)/ P1 # Kepler-80 d\n",
    "w2 = (2*np.pi)/ P2 # Kepler-80 e\n",
    "print(f\"w1 = {w1:.5} \\nw2 = {w2:.5}\")\n",
    "r1 = 1.3 * u.R_earth\n",
    "r2 = 1.33 * u.R_earth\n",
    "\n",
    "# planet mean-motion\n",
    "n1 = np.sqrt((const.G * mstar)/a1**3)\n",
    "n2 = np.sqrt((const.G * mstar)/a2**3)\n",
    "print(f\"n1 = {n1.decompose():.5}; n2 = {n2.decompose():.5}\")\n",
    "# Laplace coefficient\n",
    "laplace = LaplaceCoefficient()\n",
    "# result = laplace(a, s, m, p, q)\n",
    "b = laplace(a12.value, 1.5, 1, 1, 1)\n",
    "print(f\"b = {b}\")\n",
    "\n",
    "# calculate spin-axis precession\n",
    "gll = -0.25*b*a12*( n1*(m2/(mstar+m1))*a12 + n2*(m1/(mstar+m2)) )\n",
    "#alpha1 = get_alpha(w1,mstar,m1,r1,a1,1,1).to(u.Myr**-1)\n",
    "#alpha2 = get_alpha(w2,mstar,m2,r2,a2,1,1).to(u.Myr**-1)\n",
    "alpha1 = (0.5 * (mstar/m1) * (r1/a1)**3 * (1/1) * w1).to(u.Myr**-1)\n",
    "alpha2 = (0.5 * (mstar/m2) * (r2/a2)**3 * (1/1) * w2).to(u.Myr**-1)\n",
    "print(f\"g_LL = {gll.to(1/u.Myr):.5}\")\n",
    "print(f\"alpha_d = {alpha1:.5}\")\n",
    "print(f\"alpha_e = {alpha2:.5}\")"
   ]
  },
  {
   "cell_type": "code",
   "execution_count": 8,
   "id": "32e2c069-32af-41fc-8794-03d82e83a656",
   "metadata": {},
   "outputs": [
    {
     "data": {
      "text/latex": [
       "$1.3728596 \\times 10^{-9} \\; \\mathrm{\\frac{1}{s}}$"
      ],
      "text/plain": [
       "<Quantity 1.3728596e-09 1 / s>"
      ]
     },
     "execution_count": 24,
     "metadata": {},
     "output_type": "execute_result"
    }
   ],
   "source": [
    "get_alpha(w2,mstar,m2,r2,a2,1,1).to(u.Myr**-1)"
   ]
  },
  {
   "cell_type": "code",
   "execution_count": 9,
   "id": "2d65abe2-1842-400a-8f86-0baba9f963b8",
   "metadata": {},
   "outputs": [
    {
     "data": {
      "text/latex": [
       "$145510.79 \\; \\mathrm{\\frac{1}{Myr}}$"
      ],
      "text/plain": [
       "<Quantity 145510.79132696 1 / Myr>"
      ]
     },
     "execution_count": 9,
     "metadata": {},
     "output_type": "execute_result"
    }
   ],
   "source": [
    "get_alpha(w1,mstar,m1,r1,a1,1,1).to(u.Myr**-1)"
   ]
  },
  {
   "cell_type": "code",
   "execution_count": 10,
   "id": "2ccde558-160f-4a60-bc9a-9b4322a0a3a0",
   "metadata": {},
   "outputs": [
    {
     "data": {
      "text/latex": [
       "$43324.154 \\; \\mathrm{\\frac{1}{Myr}}$"
      ],
      "text/plain": [
       "<Quantity 43324.15398583 1 / Myr>"
      ]
     },
     "execution_count": 10,
     "metadata": {},
     "output_type": "execute_result"
    }
   ],
   "source": [
    "(0.5 * (mstar/m2) * (r2/a2)**3 * (1) * w2).to(u.Myr**-1)"
   ]
  },
  {
   "cell_type": "code",
   "execution_count": 11,
   "id": "aa27bd25-8dfa-431a-8c80-3c16ba5f29d3",
   "metadata": {},
   "outputs": [
    {
     "name": "stdout",
     "output_type": "stream",
     "text": [
      "w1 = 2pi/P1 = 2.045210116984517 1 / d, n1 = GMstar/a1^3: 2.0355477287735853 1 / d\n",
      "w2 = 2pi/P2 = 1.3525658755131438 1 / d, n2 = GMstar/a2^3: 1.3453899345260363 1 / d\n"
     ]
    }
   ],
   "source": [
    "print(f\"w1 = 2pi/P1 = {w1}, n1 = GMstar/a1^3: {n1.to(u.d**-1)}\")\n",
    "print(f\"w2 = 2pi/P2 = {w2}, n2 = GMstar/a2^3: {n2.to(u.d**-1)}\")"
   ]
  },
  {
   "cell_type": "markdown",
   "id": "fc5239e7-7a60-4ebe-8eb1-0fb2a6352247",
   "metadata": {},
   "source": [
    "### Calculate obliquity required for spin-orbit resonance\n",
    "\n",
    "$$ cos~\\epsilon = \\left( \\frac{1}{2\\alpha_{syn}/|g| ~-~1} \\right)^{1/2}  $$\n",
    "\n",
    "for $\\alpha_{syn} = \\alpha$ when $n = \\omega$, i.e. the rotation period of the planet is the same as its orbital period \n"
   ]
  },
  {
   "cell_type": "raw",
   "id": "ae7d3d4f-9faf-473f-8060-c7d9a0f0fd31",
   "metadata": {},
   "source": [
    "alpha_d (inner) I get 5.2e5\n",
    "alpha_e (outer) I get 1.4e5"
   ]
  },
  {
   "cell_type": "code",
   "execution_count": 61,
   "id": "456dd908-29ce-4cf9-a3af-36e12677f37d",
   "metadata": {},
   "outputs": [
    {
     "data": {
      "text/latex": [
       "$29676.275 \\; \\mathrm{\\frac{1}{Myr}}$"
      ],
      "text/plain": [
       "<Quantity 29676.27484677 1 / Myr>"
      ]
     },
     "execution_count": 61,
     "metadata": {},
     "output_type": "execute_result"
    }
   ],
   "source": [
    "(alpha1.mean() - alpha1.min())*0.25"
   ]
  },
  {
   "cell_type": "code",
   "execution_count": 13,
   "id": "83335b9a-9dbc-435c-805c-60c4e111ab0c",
   "metadata": {},
   "outputs": [
    {
     "data": {
      "text/latex": [
       "$1.5120965 \\; \\mathrm{}$"
      ],
      "text/plain": [
       "<Quantity 1.51209649>"
      ]
     },
     "execution_count": 13,
     "metadata": {},
     "output_type": "execute_result"
    }
   ],
   "source": [
    "P2/P1"
   ]
  },
  {
   "cell_type": "code",
   "execution_count": 63,
   "id": "f6b33bd0-6805-4d70-b225-05a9eae171ef",
   "metadata": {},
   "outputs": [
    {
     "name": "stdout",
     "output_type": "stream",
     "text": [
      "alpha_d/g: 3.626--39.01\n",
      "alpha_e/g: 3.0--31.69\n",
      "obliquity_d = 66.43--83.46 deg (P = 3.0721466 d)\n",
      "obliquity_e = 63.44--82.73 deg (P = 4.6453821 d)\n"
     ]
    }
   ],
   "source": [
    "# Assume Prot = Porb\n",
    "# N random values of k2, g\n",
    "N = 100\n",
    "k2 = np.random.rand(N)*(0.6 - 0.1) + 0.1\n",
    "g = gll*(np.random.rand(N)*(1. - 0.3) + 0.3)\n",
    "alpha1 = (0.5 * (mstar/m1) * (r1/a1)**3 * (k2/get_C(k2)) * w1).to(u.Myr**-1)\n",
    "alpha2 = np.random.normal(1.4e5, 3e4, N) * u.Myr**-1 # (0.5 * (mstar/m2) * (r2/a2)**3 * (k2/get_C(k2)) * w2).to(u.Myr**-1)\n",
    "\n",
    "alpha_d_g = np.array([(alpha1 / gg).decompose() for gg in g])  # a/g for every alpha, g pair\n",
    "alpha_e_g = np.array([(alpha2 / gg).decompose() for gg in g])\n",
    "\n",
    "print(f\"alpha_d/g: {(alpha_d_g).min():.4}--{(alpha_d_g).max():.4}\")\n",
    "print(f\"alpha_e/g: {(alpha_e_g).min():.4}--{(alpha_e_g).max():.4}\")\n",
    "\n",
    "obl1 = np.arccos(((2*alpha_d_g) - 1)**(-0.5))*(180/np.pi)\n",
    "obl2 = np.arccos(((2*alpha_e_g) - 1)**(-0.5))*(180/np.pi)\n",
    "print(f\"obliquity_d = {obl1.min():.4}--{obl1.max():.4} deg (P = {P1})\")\n",
    "print(f\"obliquity_e = {obl2.min():.4}--{obl2.max():.4} deg (P = {P2})\")"
   ]
  },
  {
   "cell_type": "code",
   "execution_count": 45,
   "id": "e5970bf1-4f97-4c97-8727-37719560ce3a",
   "metadata": {},
   "outputs": [
    {
     "data": {
      "text/plain": [
       "array([[18.26974543, 18.2545191 , 13.46629031, ..., 16.30857821,\n",
       "        18.23504914, 14.05156315],\n",
       "       [16.90615818, 16.89206829, 12.46121545, ..., 15.09136534,\n",
       "        16.87405149, 13.00280567],\n",
       "       [19.42709569, 19.41090481, 14.31935171, ..., 17.34169263,\n",
       "        19.39020146, 14.94170037],\n",
       "       ...,\n",
       "       [18.83562043, 18.81992249, 13.88338627, ..., 16.81370932,\n",
       "        18.79984948, 14.48678697],\n",
       "       [16.87839831, 16.86433155, 12.44075417, ..., 15.06658536,\n",
       "        16.84634434, 12.98145509],\n",
       "       [18.58069102, 18.56520554, 13.69548253, ..., 16.58614533,\n",
       "        18.54540421, 14.29071655]])"
      ]
     },
     "execution_count": 45,
     "metadata": {},
     "output_type": "execute_result"
    }
   ],
   "source": [
    "np.array([(alpha1 / gg).decompose() for gg in g])"
   ]
  },
  {
   "cell_type": "markdown",
   "id": "4070ef05-acf7-44d1-9d58-c2ec51c28ef1",
   "metadata": {},
   "source": [
    "### Planet tilt ($\\omega$) vs. day length (n)\n",
    "Obliquity vs. spin frequency\n",
    "\n",
    "$$ \\frac{w_{eq}}{n} = \\frac{N(e)}{\\Omega(e)}\\frac{2cos~\\epsilon}{1 + cos^2\\epsilon} $$\n",
    "\n",
    "$ N(e=0) = \\Omega(e=0) = 1$\n",
    "\n",
    "Solving for $\\epsilon$ when $w_{eq}/n = 1$:\n",
    "\n",
    "$$ \\epsilon = cos^{-1} \\left( \\frac{N(e)}{\\Omega(e)} \\pm  \\sqrt{\\left( \\frac{N(e)}{\\Omega(e)}\\right) ^2 - 1} ~\\right)$$ \n",
    "\n",
    "but the part under the radical is complex, so it's actually\n",
    "\n",
    "$$ \\epsilon = cos^{-1} \\left( \\frac{N(e)}{\\Omega(e)}\\right) $$"
   ]
  },
  {
   "cell_type": "code",
   "execution_count": 16,
   "id": "7a4906b1-3fe4-4cf8-8df9-59ef4c3bbc05",
   "metadata": {
    "tags": []
   },
   "outputs": [
    {
     "data": {
      "text/plain": [
       "Text(0.5, 1.0, 'Mean rotation rate vs. travel rate for all obliquities @ e=0')"
      ]
     },
     "execution_count": 16,
     "metadata": {},
     "output_type": "execute_result"
    },
    {
     "data": {
      "image/png": "[encoded data removed]",
      "text/plain": [
       "<Figure size 432x288 with 1 Axes>"
      ]
     },
     "metadata": {
      "needs_background": "light"
     },
     "output_type": "display_data"
    }
   ],
   "source": [
    "obl = np.arange(0,100,10) * np.pi/180\n",
    "weq_n = (2 * np.cos(obl)) / (1 + np.cos(obl)**2)\n",
    "\n",
    "plt.plot(obl*180/np.pi, weq_n)\n",
    "plt.xlabel(\"obliquity [deg]\")\n",
    "plt.ylabel(r\"$\\omega_{eq}/n$\")\n",
    "plt.title(\"Mean rotation rate vs. travel rate for all obliquities @ e=0\")"
   ]
  },
  {
   "cell_type": "code",
   "execution_count": 17,
   "id": "e746d0d0-4e77-48ed-a972-779d69fb55ae",
   "metadata": {},
   "outputs": [],
   "source": [
    "_obl = np.linspace(0,90,100) * np.pi/180\n",
    "_ecc = np.linspace(0,0.10,100)\n",
    "\n",
    "obl, ecc = np.meshgrid(_obl, _ecc)\n",
    "\n",
    "Ne = (1 + (15/2)*ecc**2 + (45/8)*ecc**4 + (5/16)*ecc**6) / (1 - ecc**2)**6\n",
    "Omegae = (1 + 3*ecc*2 + (3/8)*ecc**4) / (1 - ecc**2)**(9/2)\n",
    "weq_n =  (2 * np.cos(obl)) / (1 + np.cos(obl)**2)# * (Ne / Omegae) \n",
    "\n",
    "obl_lock = np.arccos((Ne / Omegae))  # + np.sqrt((Ne/Omegae)**2 - 1)"
   ]
  },
  {
   "cell_type": "markdown",
   "id": "2570cf7b-9f35-4f4c-a7f9-46553e0621bc",
   "metadata": {},
   "source": [
    "**Note** The plot has a gradient with increasing eccentricity if you include the \n",
    "$\\frac{N(e)}{\\Omega(e)}$ term in the calculation for $w_{eq}/n$."
   ]
  },
  {
   "cell_type": "code",
   "execution_count": 18,
   "id": "361eff7e-783a-43d9-ad75-a149e413e702",
   "metadata": {},
   "outputs": [
    {
     "data": {
      "image/png": "[encoded data removed]",
      "text/plain": [
       "<Figure size 432x288 with 2 Axes>"
      ]
     },
     "metadata": {
      "needs_background": "light"
     },
     "output_type": "display_data"
    }
   ],
   "source": [
    "fig, ax = plt.subplots()\n",
    "plt.grid(False)\n",
    "\n",
    "pcm = ax.pcolormesh(ecc, obl*(180/np.pi), weq_n, \n",
    "                    cmap='PuBuGn_r', vmin=0, vmax=1.05)\n",
    "plt.plot(np.unique(ecc.flatten()), np.unique((obl_lock.flatten())) * (180/np.pi), '-')\n",
    "\n",
    "plt.text(0.055, 48, r\"$w_{eq} = n$ (tidally-locked)\")\n",
    "plt.xlabel(\"eccentricity\")\n",
    "plt.ylabel(\"obliquity [deg]\")\n",
    "plt.title(r\"$\\omega_{eq}/n$ (mean rotation rate per travel rate) \")\n",
    "cb = fig.colorbar(pcm)\n",
    "cb.set_label(r\"$w_{eq}/n$\")"
   ]
  },
  {
   "cell_type": "code",
   "execution_count": 19,
   "id": "59d1d174-9d4d-4c4e-87e7-70c01b2426f6",
   "metadata": {},
   "outputs": [],
   "source": [
    "mass_data = pd.read_table(\"./ajaa71eft1_mrt.txt\", header=70, usecols=[0])\n",
    "# ecc_data = pd.read_table(\"./ajaa71eft2_mrt.txt\", header=28)"
   ]
  },
  {
   "cell_type": "code",
   "execution_count": 20,
   "id": "03484f44-3819-4be7-b276-ffeab8f4a12b",
   "metadata": {},
   "outputs": [
    {
     "data": {
      "text/plain": [
       "array([['Kepler-9 b    1  19.243  8.2 1.0  0.7    1.0 0.1  0.1  0  43.5   2.7  3.3    0.4   0.1  0.1  0  43.4   2.7  3.2    0.4    0.1  0.1  Ho10; Dr14; Bo14        '],\n",
       "       ['Kepler-9 c    1  38.969  8.3 0.8  0.9    1.0 0.1  0.1  0  29.9   1.8  2.3    0.3   0.1  0.1  0  29.9   1.9  2.2    0.3    0.1  0.1  Ho10; Dr14; Bo14        '],\n",
       "       ['Kepler-11 b   0  10.304  1.9 0.1  0.1    0.9 0.1  0.1  0   0.7   0.3  0.2    0.6   0.3  0.2  0   1.2   0.6  0.5    1.0    0.5  0.5  Li11; Mig12; Li13; Bo14 '],\n",
       "       ['Kepler-11 c   0  13.025  3.0 0.2  0.2    0.9 0.1  0.1  0   1.8   0.9  0.5    0.4   0.2  0.1  0   3.4   1.4  1.5    0.7    0.4  0.3  Li11; Mig12; Li13; Bo14 '],\n",
       "       ['Kepler-11 d   1  22.687  3.3 0.2  0.2    0.9 0.1  0.1  0   6.8   0.7  0.8    1.0   0.2  0.2  0   6.9   0.8  0.8    1.0    0.3  0.2  Li11; Mig12; Li13; Bo14 ']],\n",
       "      dtype=object)"
      ]
     },
     "execution_count": 20,
     "metadata": {},
     "output_type": "execute_result"
    }
   ],
   "source": [
    "mass_data.to_numpy()[0:5]"
   ]
  },
  {
   "cell_type": "markdown",
   "id": "62f21a5a-208f-4658-a760-944a231b4e70",
   "metadata": {},
   "source": [
    "### g and $\\alpha$ connecting to $\\omega_{eq}/n$ \n",
    "\n",
    "If $T_g \\approx T_{\\alpha}$, that is **resonance** in Cassini state 2, \n",
    "and _**not**_ tidal locking, right?  This is just saying the precession period of the orbit is the same as the precession period of the planet spin. Tidal locking is when $w_{eq} = n$\n",
    "\n",
    "Sarah has gone ahead and calculated $g$ and $\\alpha_{sync} = a(n\\omega)$ for M dwarfs which are also in the paper by Hadden & Lithwick. \n",
    "\n",
    "For $e \\approx 0$, she used an expression which has $\\alpha_{syn},~g$ to get $\\epsilon$:\n",
    "\n",
    "$$ cos~\\epsilon = \\left( \\frac{1}{2\\alpha_{syn}/|g| - 1} \\right)^{1/2} $$. \n",
    "\n",
    "I will now look up the values of $w_{eq}/n$."
   ]
  },
  {
   "cell_type": "code",
   "execution_count": 21,
   "id": "82413e3f-9d61-499e-b5ce-e985e2bb3f64",
   "metadata": {},
   "outputs": [],
   "source": [
    "# Trappist-1 values\n",
    "pl_c_obl = [69.7, 80.5, 78.3, 85.0] # min, max b-c; min-max c-d obliquity\n",
    "pl_c_ag = [4.66, 19., 12.7, 66.6] # min, max b-c; min-max c-d  alpha/g\n",
    "pl_c_n = 2*np.pi / (2.42 * u.d) "
   ]
  },
  {
   "cell_type": "code",
   "execution_count": 22,
   "id": "4d7fcc2a-7308-450e-8cfc-d8d31852b3ef",
   "metadata": {},
   "outputs": [
    {
     "name": "stdout",
     "output_type": "stream",
     "text": [
      "Planet c rotation period range given b-c interactions: [3.92202834 7.53092573] d\n",
      "Planet c rotation period range given c-d interactions: [ 6.21221586 13.71923397] d\n",
      "saving figure TRAPPIST-1/plots/TRAPPIST-1_obliquity_weqn.pdf\n"
     ]
    },
    {
     "data": {
      "image/png": "[encoded data removed]",
      "text/plain": [
       "<Figure size 432x288 with 1 Axes>"
      ]
     },
     "metadata": {
      "needs_background": "light"
     },
     "output_type": "display_data"
    }
   ],
   "source": [
    "plt.rc('font', size=14) \n",
    "plt.xlabel(\"obliquity [deg]\")\n",
    "plt.ylabel(r\"$\\omega_{eq}/n$\")\n",
    "plt.title(\"Mean rotation rate vs. travel rate for all obliquities @ e=0\")\n",
    "\n",
    "obl = np.arange(0,95,0.1) * np.pi/180\n",
    "weq_n = (2 * np.cos(obl)) / (1 + np.cos(obl)**2)\n",
    "\n",
    "# mask for allowed obliquities for each planet-planet interaction\n",
    "bc_obl_mask = (obl > pl_c_obl[0]*(np.pi/180) )& (obl < pl_c_obl[1]*(np.pi/180)) # deg\n",
    "cd_obl_mask = (obl > pl_c_obl[2]*(np.pi/180) )& (obl < pl_c_obl[3]*(np.pi/180)) # deg\n",
    "\n",
    "# b-on-c\n",
    "weq_n_bc = [weq_n[bc_obl_mask].min(), weq_n[bc_obl_mask].max()]\n",
    "weq_bc = (weq_n_bc * u.rad) * pl_c_n\n",
    "print(f\"Planet c rotation period range given b-c interactions: {np.sort(np.pi*2*u.rad/weq_bc)}\")\n",
    "plt.scatter(obl[bc_obl_mask].min()*(180/np.pi), weq_n[bc_obl_mask].max(),c='grey')\n",
    "plt.scatter(obl[bc_obl_mask].max()*(180/np.pi), weq_n[bc_obl_mask].min(),c='grey')\n",
    "plt.text(5,0.2, r\"$\\omega_{eq, b-c} = $\"+f\"{weq_bc[0].value:.3}-{weq_bc[1]:.3}\", c='grey')\n",
    "\n",
    "# d-on-c\n",
    "weq_n_cd = [weq_n[cd_obl_mask].min(), weq_n[cd_obl_mask].max()]  # range of weq/n\n",
    "weq_cd = (weq_n_cd * u.rad) * pl_c_n    \n",
    "print(f\"Planet c rotation period range given c-d interactions: {np.sort(np.pi*2*u.rad/weq_cd)}\")\n",
    "plt.scatter(obl[cd_obl_mask].min()*(180/np.pi), weq_n[cd_obl_mask].max(),c='teal')\n",
    "plt.scatter(obl[cd_obl_mask].max()*(180/np.pi), weq_n[cd_obl_mask].min(),c='teal')\n",
    "plt.text(5,0.11, r\"$\\omega_{eq, c-d} = $\"+f\"{weq_cd[0].value:.3}-{weq_cd[1]:.3}\", c='teal')\n",
    "\n",
    "# plot obliquity-weq/n curve\n",
    "plt.plot(obl*180/np.pi, weq_n)\n",
    "\n",
    "plt.vlines(pl_c_obl[0:2], 0,1, linestyles='--', colors='grey')\n",
    "plt.text(72, 0.5, r\"$\\epsilon_{bc}$\", c='grey')\n",
    "plt.vlines(pl_c_obl[2:], 0,1, linestyles='--', colors='teal')\n",
    "plt.text(82, 0.5, r\"$\\epsilon_{dc}$\", c='teal');\n",
    "\n",
    "saveplot=True\n",
    "if saveplot:\n",
    "    folder = f\"TRAPPIST-1\"\n",
    "    if not os.path.exists(folder):\n",
    "        print(f\"making {folder}\")\n",
    "        os.makedirs(f\"{folder}/plots\")\n",
    "    filename=f\"{folder}/plots/{folder}_obliquity_weqn.pdf\"\n",
    "    plt.savefig(filename, bbox_inches='tight',transparent=True)\n",
    "    print(f\"saving figure {filename}\")"
   ]
  },
  {
   "cell_type": "code",
   "execution_count": null,
   "id": "5f8a8034-1304-4f40-a400-b6efd7d269c2",
   "metadata": {},
   "outputs": [],
   "source": []
  }
 ],
 "metadata": {
  "kernelspec": {
   "display_name": "Python 3 (ipykernel)",
   "language": "python",
   "name": "python3"
  },
  "language_info": {
   "codemirror_mode": {
    "name": "ipython",
    "version": 3
   },
   "file_extension": ".py",
   "mimetype": "text/x-python",
   "name": "python",
   "nbconvert_exporter": "python",
   "pygments_lexer": "ipython3",
   "version": "3.8.13"
  }
 },
 "nbformat": 4,
 "nbformat_minor": 5
}
