{
 "cells": [
  {
   "cell_type": "code",
   "execution_count": 1,
   "id": "20647074-147e-43c9-8882-be82ca089d7a",
   "metadata": {},
   "outputs": [],
   "source": [
    "# import packages\n",
    "import numpy as np\n",
    "import math as math\n",
    "import pandas as pd\n",
    "from astropy import units as u\n",
    "import astropy.constants as const\n",
    "import random\n",
    "import matplotlib.pyplot as plt\n",
    "#import seaborn as sns; sns.set_theme()"
   ]
  },
  {
   "cell_type": "markdown",
   "id": "445cdae8-be0a-4b58-90b4-c3635507fbf4",
   "metadata": {},
   "source": [
    "# Exploring relationships between planet rotation, obliquity, orbital eccentricity, inclination\n",
    "\n"
   ]
  },
  {
   "cell_type": "markdown",
   "id": "93b7605d-127a-4871-aa70-7733020c4a2f",
   "metadata": {},
   "source": [
    "### Precession for a given spin freqency\n",
    "\n",
    "$ \\alpha $ - spin-axis precession constant\n",
    "\n",
    "$ \\epsilon $ - obliquity (of orbit?)\n",
    "\n",
    "Period of planet spin precession\n",
    "$$ T_{\\alpha} = \\frac{2\\pi}{\\alpha ~ cos \\epsilon} $$ \n",
    "\n",
    "Caused by torque from host star on rotationally-flattened planet \n",
    "\n",
    "$$ \\alpha = \\frac{1}{2}\\frac{M_{*}}{m_p}\\left(\\frac{R_p}{a}\\right)^3\\frac{k_2}{C}\\omega $$\n",
    "\n",
    "\n"
   ]
  },
  {
   "cell_type": "code",
   "execution_count": 2,
   "id": "49fa156a-6d56-4197-8de9-d3201c805bb1",
   "metadata": {},
   "outputs": [],
   "source": [
    "def get_alpha(omega, mstar, mp, rp, a, k2, C):\n",
    "    \"\"\"\n",
    "    Calculate alpha, spin-axis precession constant for frequency of planet \n",
    "    rotational spin axis precessing around orbit normal\n",
    "    \n",
    "    Input:\n",
    "        omega: spin frequency\n",
    "        \n",
    "    Returns:\n",
    "        alpha: frequency constant in 1/yr\n",
    "    \"\"\"\n",
    "    alpha = 0.5 * (mstar/mp) * (rp/a)**3 * (k2/C) * omega\n",
    "    \n",
    "    return alpha.decompose()"
   ]
  },
  {
   "cell_type": "code",
   "execution_count": 3,
   "id": "9e42bc1e-ec65-4a3c-964c-a48c34af3e2f",
   "metadata": {},
   "outputs": [
    {
     "name": "stdout",
     "output_type": "stream",
     "text": [
      "Precession for a given spin freqency:\n",
      "w = 7.27e-05 1 / s\n",
      "alpha(w) = 8.814e-13 1 / s\n",
      "T_a = 2.259e+05 yr \n"
     ]
    }
   ],
   "source": [
    "# planet-star parameters\n",
    "mstar = 1. * u.M_sun\n",
    "mp = 1. * u.M_earth   # 17 Me Neptune\n",
    "rp = 1. * u.R_earth   # 4 Re Neptune\n",
    "a = 1. * u.au  # 30 AU Neptune\n",
    "k2 = 0.31 # 0.2 * random.random() + 0.2  # Love number, 0.2-0.6 in Solar system\n",
    "C = 0.33 # 0.2 * random.random() + 0.2 # moment of inertia normalized to planet\n",
    "Prot = 24. * u.h  # Jupiter spins once every 10 hours, which should be illegal\n",
    "\n",
    "obl = 23.*np.pi/180. # planet obliquity \n",
    "\n",
    "print(\"Precession for a given spin freqency:\")\n",
    "\n",
    "# Calculate spin frequency \n",
    "w = (2*np.pi)/(Prot)\n",
    "print(f\"w = {w.to(1/u.s):.3}\")\n",
    "\n",
    "# Calculate precession constant\n",
    "alpha = get_alpha(w, mstar, mp, rp, a, k2, C)\n",
    "print(f\"alpha(w) = {alpha:.4}\")\n",
    "\n",
    "# Calculate precession periodt\n",
    "Ta = (2*np.pi)/(alpha ) #* np.cos(obl))\n",
    "print(f\"T_a = {Ta.to(u.yr):.4} \")  "
   ]
  },
  {
   "cell_type": "markdown",
   "id": "cd59b67f-f426-4711-b69a-a1ad60f23b3e",
   "metadata": {},
   "source": [
    "The values I get for precession period are about 10x larger than the ones in the paper. \n",
    "Unsure why...I suspect units."
   ]
  },
  {
   "cell_type": "markdown",
   "id": "4070ef05-acf7-44d1-9d58-c2ec51c28ef1",
   "metadata": {},
   "source": [
    "### Planet tilt ($\\omega$) vs. day length (n)\n",
    "Obliquity vs. spin frequency\n",
    "\n",
    "$$ \\frac{w_{eq}}{n} = \\frac{N(e)}{\\Omega(e)}\\frac{2cos~\\epsilon}{1 + cos^2\\epsilon} $$\n",
    "\n",
    "$ N(e=0) = \\Omega(e=0) = 1$\n",
    "\n",
    "Solving for $\\epsilon$ when $w_{eq}/n = 1$:\n",
    "\n",
    "$$ \\epsilon = cos^{-1} \\left( \\frac{N(e)}{\\Omega(e)} \\pm  \\sqrt{\\left( \\frac{N(e)}{\\Omega(e)}\\right) ^2 - 1} ~\\right)$$ \n",
    "\n",
    "but the part under the radical is complex, so it's actually\n",
    "\n",
    "$$ \\epsilon = cos^{-1} \\left( \\frac{N(e)}{\\Omega(e)}\\right) $$"
   ]
  },
  {
   "cell_type": "code",
   "execution_count": 4,
   "id": "7a4906b1-3fe4-4cf8-8df9-59ef4c3bbc05",
   "metadata": {
    "collapsed": true,
    "jupyter": {
     "outputs_hidden": true,
     "source_hidden": true
    },
    "tags": []
   },
   "outputs": [
    {
     "data": {
      "text/plain": [
       "Text(0.5, 1.0, 'Mean rotation rate vs. travel rate for all obliquities @ ecc=0')"
      ]
     },
     "execution_count": 4,
     "metadata": {},
     "output_type": "execute_result"
    },
    {
     "data": {
      "image/png": "[encoded data removed]",
      "text/plain": [
       "<Figure size 432x288 with 1 Axes>"
      ]
     },
     "metadata": {
      "needs_background": "light"
     },
     "output_type": "display_data"
    }
   ],
   "source": [
    "obl = np.arange(0,100,10) * np.pi/180\n",
    "weq_n = (2 * np.cos(obl)) / (1 + np.cos(obl)**2)\n",
    "\n",
    "plt.plot(obl*180/np.pi, weq_n)\n",
    "plt.xlabel(\"obliquity [deg]\")\n",
    "plt.ylabel(r\"$\\omega_{eq}/n$\")\n",
    "plt.title(\"Mean rotation rate vs. travel rate for all obliquities @ ecc=0\")"
   ]
  },
  {
   "cell_type": "code",
   "execution_count": 134,
   "id": "e746d0d0-4e77-48ed-a972-779d69fb55ae",
   "metadata": {},
   "outputs": [],
   "source": [
    "_obl = np.linspace(0,90,100) * np.pi/180\n",
    "_ecc = np.linspace(0,0.10,100)\n",
    "\n",
    "obl, ecc = np.meshgrid(_obl, _ecc)\n",
    "\n",
    "Ne = (1 + (15/2)*ecc**2 + (45/8)*ecc**4 + (5/16)*ecc**6) / (1 - ecc**2)**6\n",
    "Omegae = (1 + 3*ecc*2 + (3/8)*ecc**4) / (1 - ecc**2)**(9/2)\n",
    "weq_n =  (2 * np.cos(obl)) / (1 + np.cos(obl)**2) * (Ne / Omegae) \n",
    "\n",
    "obl_lock = np.arccos((Ne / Omegae))  # + np.sqrt((Ne/Omegae)**2 - 1)"
   ]
  },
  {
   "cell_type": "markdown",
   "id": "2570cf7b-9f35-4f4c-a7f9-46553e0621bc",
   "metadata": {},
   "source": [
    "**Note** The plot has a gradient with increasing eccentricity if you include the \n",
    "$\\frac{N(e)}{\\Omega(e)}$ term in the calculation for $w_{eq}/n$."
   ]
  },
  {
   "cell_type": "code",
   "execution_count": 139,
   "id": "361eff7e-783a-43d9-ad75-a149e413e702",
   "metadata": {},
   "outputs": [
    {
     "data": {
      "image/png": "[encoded data removed]",
      "text/plain": [
       "<Figure size 432x288 with 2 Axes>"
      ]
     },
     "metadata": {
      "needs_background": "light"
     },
     "output_type": "display_data"
    }
   ],
   "source": [
    "fig, ax = plt.subplots()\n",
    "plt.grid(False)\n",
    "\n",
    "pcm = ax.pcolormesh(ecc, obl*(180/np.pi), weq_n, \n",
    "                    cmap='PuBuGn_r', vmin=0, vmax=1.05)\n",
    "plt.plot(np.unique(ecc.flatten()), np.unique((obl_lock.flatten())) * (180/np.pi), '-')\n",
    "\n",
    "plt.text(0.055, 48, r\"$w_{eq} = n$ (tidally-locked)\")\n",
    "plt.xlabel(\"eccentricity\")\n",
    "plt.ylabel(\"obliquity [deg]\")\n",
    "plt.title(r\"$\\omega_{eq}/n$ (mean rotation rate per travel rate) \")\n",
    "cb = fig.colorbar(pcm)\n",
    "cb.set_label(r\"$w_{eq}/n$\")"
   ]
  },
  {
   "cell_type": "code",
   "execution_count": 179,
   "id": "59d1d174-9d4d-4c4e-87e7-70c01b2426f6",
   "metadata": {},
   "outputs": [],
   "source": [
    "mass_data = pd.read_table(\"./ajaa71eft1_mrt.txt\", header=70, usecols=[0])\n",
    "ecc_data = pd.read_table(\"./ajaa71eft2_mrt.txt\", header=28)"
   ]
  },
  {
   "cell_type": "code",
   "execution_count": 181,
   "id": "58895e06-587a-46fc-91b9-691a2cc58477",
   "metadata": {},
   "outputs": [
    {
     "data": {
      "text/plain": [
       "array([['Kepler-9 b/c     2:1 0.0126 0.083 0.001  0.001  0.083  0.001  0.001  0.083 0.001  0.001  0.083  0.001  0.001  '],\n",
       "       ['Kepler-11 b/c    5:4 0.0113 0.028 0.01   0.006  0.028  0.01   0.006  0.01  0.004  0.008  0.01   0.004  0.008  '],\n",
       "       ['Kepler-11 c/d    5:3 0.0451 0.013 0.009  0.015  0.001  0.008  0.023  0.001 0.001  0.008  0.00   0.002  0.009  '],\n",
       "       ['Kepler-11 d/e    7:5 0.0074 0.009 0.001  0.001  0.009  0.002  0.001  0.009 0.001  0.001  0.009  0.001  0.002  '],\n",
       "       ['Kepler-11 e/f    3:2 0.0272 0.018 0.004  0.005  0.018  0.004  0.006  0.016 0.004  0.005  0.016  0.004  0.004  '],\n",
       "       ['Kepler-18 c/d    2:1 0.0278 0.001 0.001  0.005  0.001  0.002  0.006  0.002 0.001  0.0004 0.002  0.001  0.001  '],\n",
       "       ['Kepler-23 b/c    3:2 0.0077 0.017 0.006  0.026  0.025  0.013  0.018  0.011 0.003  0.005  0.011  0.003  0.005  '],\n",
       "       ['Kepler-23 c/d    7:5 0.0156 0.021 0.014  0.013  0.002  0.018  0.022  0.009 0.009  0.003  0.009  0.011  0.004  '],\n",
       "       ['Kepler-24 b/c    3:2 0.0095 0.035 0.014  0.025  0.035  0.014  0.025  0.014 0.004  0.006  0.014  0.004  0.006  '],\n",
       "       ['Kepler-24 c/e    3:2 0.0269 0.038 0.018  0.014  0.037  0.024  0.013  0.006 0.006  0.006  0.001  0.001  0.011  '],\n",
       "       ['Kepler-25 b/c    2:1 0.0195 0.009 0.008  0.043  0.009  0.008  0.044  0.002 0.001  0.005  0.003  0.003  0.004  '],\n",
       "       ['Kepler-26 b/c    7:5 0.0032 0.013 0.001  0.001  0.013  0.001  0.001  0.01  0.001  0.001  0.01   0.001  0.001  '],\n",
       "       ['Kepler-27 03/b   2:1 0.1713 0.009 0.008  0.082  0.006  0.033  0.071  0.006 0.002  0.003  0.005  0.003  0.003  '],\n",
       "       ['Kepler-27 b/c    2:1 0.0215 0.034 0.013  0.022  0.034  0.012  0.022  0.019 0.005  0.007  0.02   0.005  0.007  '],\n",
       "       ['Kepler-28 b/c    3:2 0.0132 0.038 0.019  0.017  0.038  0.018  0.018  0.005 0.001  0.012  0.008  0.005  0.009  '],\n",
       "       ['Kepler-29 b/c    9:7 0.0005 0.014 0.003  0.014  0.013  0.003  0.014  0.012 0.001  0.002  0.012  0.001  0.002  '],\n",
       "       ['Kepler-30 b/c    2:1 0.0287 0.039 0.0003 0.0003 0.039  0.0003 0.0003 0.039 0.0003 0.0003 0.039  0.0003 0.0003 '],\n",
       "       ['Kepler-31 b/c    2:1 0.0219 0.008 0.005  0.082  0.01   0.009  0.08   0.005 0.001  0.004  0.005  0.002  0.003  '],\n",
       "       ['Kepler-31 c/d    2:1 0.0279 0.007 0.005  0.024  0.004  0.005  0.024  0.001 0.001  0.003  0.001  0.001  0.003  '],\n",
       "       ['Kepler-32 b/c    3:2 0.0113 0.096 0.043  0.011  0.094  0.044  0.01   0.004 0.001  0.004  0.004  0.001  0.004  '],\n",
       "       ['Kepler-33 c/d    5:3 0.0084 0.029 0.015  0.014  0.024  0.018  0.021  0.016 0.008  0.009  0.016  0.01   0.009  '],\n",
       "       ['Kepler-33 d/e    3:2 0.0269 0.008 0.004  0.004  0.007  0.003  0.005  0.009 0.004  0.003  0.008  0.004  0.004  '],\n",
       "       ['Kepler-33 e/f    9:7 0.004  0.006 0.002  0.002  0.006  0.002  0.002  0.006 0.002  0.002  0.006  0.003  0.002  '],\n",
       "       ['Kepler-36 b/c    7:6 0.0048 0.02  0.0005 0.0004 0.02   0.0004 0.0005 0.02  0.0003 0.0003 0.02   0.0004 0.0003 '],\n",
       "       ['Kepler-48 b/c    2:1 0.0123 0.003 0.003  0.16   0.08   0.082  0.074  0.001 0.001  0.001  0.0004 0.0005 0.0005 '],\n",
       "       ['Kepler-49 b/c    3:2 0.0099 0.003 0.0004 0.001  0.003  0.001  0.001  0.004 0.0004 0.0004 0.004  0.001  0.0004 '],\n",
       "       ['Kepler-51 b/c    2:1 0.0553 0.041 0.011  0.014  0.041  0.011  0.014  0.033 0.009  0.012  0.033  0.009  0.012  '],\n",
       "       ['Kepler-51 c/d    3:2 0.0172 0.004 0.001  0.002  0.004  0.002  0.002  0.004 0.002  0.001  0.004  0.002  0.001  '],\n",
       "       ['Kepler-52 b/c    2:1 0.04   0.151 0.053  0.091  0.154  0.056  0.084  0.066 0.019  0.029  0.066  0.019  0.029  '],\n",
       "       ['Kepler-52 c/d    2:1 0.1122 0.129 0.052  0.051  0.115  0.043  0.06   0.056 0.026  0.026  0.052  0.025  0.028  '],\n",
       "       ['Kepler-53 b/c    2:1 0.0338 0.133 0.062  0.042  0.123  0.055  0.049  0.017 0.005  0.009  0.018  0.006  0.007  '],\n",
       "       ['Kepler-53 d/b    2:1 0.0438 0.055 0.039  0.052  0.043  0.073  0.046  0.007 0.005  0.008  0.005  0.005  0.007  '],\n",
       "       ['Kepler-54 b/c    3:2 0.0046 0.016 0.005  0.019  0.016  0.005  0.019  0.011 0.002  0.005  0.011  0.002  0.005  '],\n",
       "       ['Kepler-55 b/c    3:2 0.005  0.036 0.023  0.02   0.037  0.024  0.019  0.002 0.001  0.007  0.005  0.005  0.006  '],\n",
       "       ['Kepler-56 b/c    2:1 0.0192 0.03  0.004  0.008  0.03   0.005  0.008  0.028 0.003  0.004  0.028  0.003  0.004  '],\n",
       "       ['Kepler-57 b/c    2:1 0.0131 0.024 0.012  0.076  0.023  0.015  0.075  0.016 0.004  0.009  0.016  0.004  0.008  '],\n",
       "       ['Kepler-58 b/c    3:2 0.016  0.067 0.027  0.023  0.066  0.027  0.023  0.009 0.003  0.011  0.009  0.003  0.011  '],\n",
       "       ['Kepler-60 b/c    5:4 0.0003 0.03  0.003  0.004  0.03   0.004  0.004  0.026 0.002  0.002  0.026  0.002  0.002  '],\n",
       "       ['Kepler-60 c/d    4:3 0.0006 0.072 0.007  0.008  0.072  0.007  0.008  0.007 0.002  0.002  0.007  0.002  0.002  '],\n",
       "       ['Kepler-79 b/c    2:1 0.0161 0.007 0.003  0.008  0.008  0.005  0.007  0.002 0.0005 0.002  0.003  0.001  0.002  '],\n",
       "       ['Kepler-79 c/d    2:1 0.0495 0.02  0.012  0.015  0.018  0.011  0.016  0.005 0.003  0.005  0.005  0.004  0.005  '],\n",
       "       ['Kepler-79 d/e    3:2 0.0375 0.013 0.005  0.007  0.013  0.006  0.007  0.009 0.004  0.005  0.009  0.004  0.005  '],\n",
       "       ['Kepler-80 b/c    4:3 0.0124 0.009 0.005  0.009  0.008  0.005  0.009  0.004 0.002  0.004  0.004  0.002  0.004  '],\n",
       "       ['Kepler-80 d/e    3:2 0.0081 0.004 0.001  0.002  0.004  0.002  0.002  0.004 0.002  0.001  0.004  0.002  0.001  '],\n",
       "       ['Kepler-80 e/b    3:2 0.0123 0.002 0.001  0.003  0.001  0.002  0.004  0.002 0.001  0.002  0.002  0.001  0.002  '],\n",
       "       ['Kepler-81 b/c    2:1 0.0109 0.007 0.005  0.135  0.004  0.005  0.124  0.004 0.001  0.002  0.004  0.001  0.002  '],\n",
       "       ['Kepler-84 b/c    3:2 0.0157 0.008 0.006  0.029  0.008  0.007  0.028  0.003 0.002  0.004  0.003  0.003  0.004  '],\n",
       "       ['Kepler-84 c/e    2:1 0.0648 0.019 0.015  0.036  0.018  0.019  0.034  0.009 0.005  0.007  0.009  0.004  0.007  '],\n",
       "       ['Kepler-84 d/b    2:1 0.0328 0.005 0.005  0.011  0.0002 0.005  0.013  0.001 0.001  0.005  0.001  0.002  0.006  '],\n",
       "       ['Kepler-84 e/f    5:3 0.0257 0.01  0.008  0.015  0.005  0.017  0.017  0.002 0.001  0.007  0.001  0.003  0.007  '],\n",
       "       ['Kepler-85 b/c    3:2 0.0045 0.002 0.001  0.014  0.002  0.002  0.014  0.001 0.0004 0.001  0.001  0.001  0.001  '],\n",
       "       ['Kepler-85 c/d    7:5 0.0225 0.016 0.011  0.013  0.005  0.008  0.02   0.006 0.004  0.004  0.006  0.006  0.003  '],\n",
       "       ['Kepler-85 d/e    7:5 0.0054 0.016 0.012  0.018  0.001  0.01   0.03   0.001 0.001  0.009  0.0002 0.003  0.007  '],\n",
       "       ['Kepler-89 c/d    2:1 0.0717 0.015 0.003  0.005  0.015  0.003  0.005  0.014 0.002  0.003  0.014  0.002  0.003  '],\n",
       "       ['Kepler-105 03/b  3:2 0.0501 0.035 0.02   0.018  0.027  0.015  0.016  0.011 0.007  0.011  0.008  0.005  0.011  '],\n",
       "       ['Kepler-105 b/c   4:3 0.0125 0.01  0.002  0.002  0.01   0.002  0.003  0.01  0.001  0.002  0.01   0.001  0.002  '],\n",
       "       ['Kepler-114 b/c   3:2 0.0332 0.011 0.009  0.03   0.007  0.014  0.03   0.001 0.001  0.005  0.001  0.003  0.004  '],\n",
       "       ['Kepler-114 c/d   3:2 0.0237 0.015 0.009  0.02   0.015  0.01   0.019  0.002 0.002  0.004  0.0001 0.001  0.005  '],\n",
       "       ['Kepler-122 e/f   3:2 0.0129 0.033 0.018  0.015  0.028  0.012  0.023  0.017 0.005  0.009  0.017  0.005  0.009  '],\n",
       "       ['Kepler-127 b/c   2:1 0.0181 0.027 0.012  0.038  0.027  0.011  0.037  0.017 0.006  0.007  0.017  0.006  0.007  '],\n",
       "       ['Kepler-127 c/d   5:3 0.0073 0.023 0.005  0.008  0.023  0.004  0.008  0.02  0.002  0.003  0.02   0.003  0.003  '],\n",
       "       ['Kepler-128 b/c   3:2 0.0075 0.084 0.033  0.031  0.088  0.037  0.025  0.008 0.003  0.014  0.008  0.003  0.014  '],\n",
       "       ['Kepler-138 b/c   4:3 0.0022 0.006 0.004  0.004  0.006  0.004  0.004  0.001 0.0003 0.001  0.001  0.001  0.001  '],\n",
       "       ['Kepler-138 c/d   5:3 0.0052 0.08  0.021  0.022  0.084  0.023  0.02   0.035 0.008  0.011  0.035  0.009  0.011  '],\n",
       "       ['Kepler-176 c/d   2:1 0.0092 0.13  0.125  0.113  0.018  0.014  0.215  0.004 0.002  0.004  0.004  0.002  0.004  '],\n",
       "       ['Kepler-177 b/c   4:3 0.0056 0.002 0.0003 0.0002 0.002  0.0003 0.0002 0.002 0.0002 0.0002 0.002  0.0002 0.0002 '],\n",
       "       ['Kepler-223 b/c   4:3 0.0002 0.073 0.014  0.014  0.072  0.013  0.015  0.071 0.013  0.016  0.071  0.013  0.016  '],\n",
       "       ['Kepler-223 c/d   3:2 0.001  0.003 0.002  0.004  0.002  0.003  0.003  0.005 0.003  0.006  0.005  0.005  0.006  '],\n",
       "       ['Kepler-223 d/e   4:3 0.0005 0.021 0.008  0.01   0.021  0.01   0.01   0.023 0.005  0.007  0.022  0.005  0.008  '],\n",
       "       ['Kepler-238 c/d   2:1 0.0749 0.012 0.012  0.061  0.003  0.028  0.068  0.012 0.012  0.014  0.01   0.012  0.016  '],\n",
       "       ['Kepler-238 d/e   5:3 0.0724 0.037 0.027  0.025  0.013  0.024  0.041  0.001 0.001  0.015  0.0001 0.007  0.011  '],\n",
       "       ['Kepler-238 e/f   2:1 0.0663 0.007 0.007  0.032  0.013  0.022  0.029  0.001 0.001  0.006  0.0003 0.004  0.006  '],\n",
       "       ['Kepler-277 b/c   2:1 0.0474 0.259 0.173  0.06   0.118  0.053  0.179  0.006 0.005  0.006  0.002  0.005  0.009  '],\n",
       "       ['Kepler-279 c/d   3:2 0.0151 0.056 0.009  0.009  0.056  0.009  0.009  0.051 0.01   0.008  0.051  0.009  0.008  '],\n",
       "       ['Kepler-305 03/b  5:3 0.0271 0.015 0.012  0.027  0.003  0.019  0.025  0.002 0.002  0.007  0.002  0.007  0.004  '],\n",
       "       ['Kepler-305 b/c   3:2 0.0073 0.006 0.003  0.006  0.006  0.003  0.006  0.003 0.001  0.002  0.003  0.001  0.002  '],\n",
       "       ['Kepler-305 c/d   2:1 0.0095 0.006 0.002  0.003  0.005  0.002  0.004  0.007 0.002  0.002  0.008  0.003  0.002  '],\n",
       "       ['Kepler-307 b/c   5:4 0.005  0.003 0.0002 0.0002 0.003  0.0002 0.0002 0.003 0.0001 0.0001 0.003  0.0001 0.0001 '],\n",
       "       ['Kepler-310 c/d   5:3 0.0133 0.026 0.014  0.008  0.026  0.035  0.006  0.017 0.008  0.012  0.008  0.005  0.005  '],\n",
       "       ['Kepler-324 03/c  3:2 0.0097 0.019 0.008  0.019  0.019  0.009  0.02   0.009 0.002  0.006  0.009  0.002  0.006  '],\n",
       "       ['Kepler-345 b/c   5:4 0.0127 0.024 0.005  0.005  0.025  0.005  0.004  0.007 0.002  0.016  0.007  0.002  0.016  '],\n",
       "       ['Kepler-359 c/d   4:3 0.0021 0.007 0.004  0.011  0.005  0.005  0.007  0.006 0.003  0.005  0.006  0.006  0.004  '],\n",
       "       ['Kepler-396 b/c   2:1 0.0293 0.229 0.072  0.113  0.244  0.087  0.097  0.088 0.029  0.045  0.089  0.025  0.049  '],\n",
       "       ['Kepler-444 b/c   5:4 0.0102 0.003 0.002  0.008  0.00   0.003  0.009  0.001 0.001  0.003  0.00   0.002  0.003  '],\n",
       "       ['Kepler-444 c/d   4:3 0.0212 0.003 0.002  0.011  0.0004 0.007  0.009  0.002 0.002  0.002  0.001  0.003  0.002  '],\n",
       "       ['Kepler-444 d/e   5:4 0.0009 0.001 0.0002 0.0004 0.001  0.0002 0.0005 0.001 0.0002 0.0002 0.001  0.0002 0.0002 '],\n",
       "       ['Kepler-444 e/f   5:4 0.0063 0.003 0.002  0.003  0.002  0.004  0.003  0.003 0.002  0.001  0.002  0.002  0.002  '],\n",
       "       ['Kepler-526 b/02  5:4 0.0064 0.036 0.013  0.007  0.036  0.014  0.006  0.008 0.003  0.006  0.008  0.003  0.006  '],\n",
       "       ['Kepler-549 01/b  5:3 0.0469 0.015 0.007  0.006  0.013  0.009  0.006  0.001 0.001  0.012  0.0002 0.001  0.012  '],\n",
       "       ['Kepler-1126 b/02 2:1 0.0807 0.071 0.055  0.11   0.07   0.11   0.124  0.062 0.025  0.011  0.057  0.02   0.016  ']],\n",
       "      dtype=object)"
      ]
     },
     "execution_count": 181,
     "metadata": {},
     "output_type": "execute_result"
    }
   ],
   "source": [
    "ecc_data.to_numpy()"
   ]
  },
  {
   "cell_type": "code",
   "execution_count": null,
   "id": "03484f44-3819-4be7-b276-ffeab8f4a12b",
   "metadata": {},
   "outputs": [],
   "source": []
  }
 ],
 "metadata": {
  "kernelspec": {
   "display_name": "Python 3 (ipykernel)",
   "language": "python",
   "name": "python3"
  },
  "language_info": {
   "codemirror_mode": {
    "name": "ipython",
    "version": 3
   },
   "file_extension": ".py",
   "mimetype": "text/x-python",
   "name": "python",
   "nbconvert_exporter": "python",
   "pygments_lexer": "ipython3",
   "version": "3.8.13"
  }
 },
 "nbformat": 4,
 "nbformat_minor": 5
}
